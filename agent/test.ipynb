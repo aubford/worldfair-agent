{
 "cells": [
  {
   "cell_type": "code",
   "execution_count": 1,
   "metadata": {},
   "outputs": [
    {
     "data": {
      "image/png": "[encoded data removed]",
      "text/plain": [
       "<langgraph.graph.state.CompiledStateGraph object at 0x112751670>"
      ]
     },
     "execution_count": 1,
     "metadata": {},
     "output_type": "execute_result"
    }
   ],
   "source": [
    "from agent import create_response_graph\n",
    "\n",
    "graph = create_response_graph(None)\n",
    "graph"
   ]
  },
  {
   "cell_type": "code",
   "execution_count": 2,
   "metadata": {},
   "outputs": [
    {
     "name": "stdout",
     "output_type": "stream",
     "text": [
      "httpx                  INFO:    HTTP Request: POST https://api.openai.com/v1/chat/completions \"HTTP/1.1 200 OK\"\n",
      "httpx                  INFO:    HTTP Request: POST https://api.openai.com/v1/chat/completions \"HTTP/1.1 200 OK\"\n",
      "httpx                  INFO:    HTTP Request: POST https://api.openai.com/v1/chat/completions \"HTTP/1.1 200 OK\"\n",
      "httpx                  INFO:    HTTP Request: POST https://api.openai.com/v1/chat/completions \"HTTP/1.1 200 OK\"\n",
      "httpx                  INFO:    HTTP Request: POST https://api.openai.com/v1/chat/completions \"HTTP/1.1 200 OK\"\n",
      "{'confidence_score': 1.0,\n",
      " 'contrast_score': 1.0,\n",
      " 'messages': [HumanMessage(content='What is the capital of France?', additional_kwargs={}, response_metadata={}, id='2a22d23e-6a1e-4ed9-99fa-7c8c79c55e28'),\n",
      "              AIMessage(content='The capital of France is **Paris**.', additional_kwargs={'refusal': None}, response_metadata={'token_usage': {'completion_tokens': 9, 'prompt_tokens': 14, 'total_tokens': 23, 'completion_tokens_details': {'accepted_prediction_tokens': 0, 'audio_tokens': 0, 'reasoning_tokens': 0, 'rejected_prediction_tokens': 0}, 'prompt_tokens_details': {'audio_tokens': 0, 'cached_tokens': 0}}, 'model_name': 'gpt-4.1-2025-04-14', 'system_fingerprint': 'fp_51e1070cf2', 'id': 'chatcmpl-BdUurdIMnRcQ2JG8OOrBVPLM2z4fa', 'service_tier': 'default', 'finish_reason': 'stop', 'logprobs': None}, id='run--0a7d9ea8-cf34-4e01-817f-bae09c8e4e6c-0', usage_metadata={'input_tokens': 14, 'output_tokens': 9, 'total_tokens': 23, 'input_token_details': {'audio': 0, 'cache_read': 0}, 'output_token_details': {'audio': 0, 'reasoning': 0}})],\n",
      " 'relevance_scores': [1.0, 1.0, 1.0],\n",
      " 'responses': ['The capital of France is **Paris**.',\n",
      "               'The capital of France is Paris.',\n",
      "               'The capital of France is Paris.'],\n",
      " 'user_input': 'What is the capital of France?'}\n"
     ]
    }
   ],
   "source": [
    "from pprint import pprint\n",
    "\n",
    "result = await graph.ainvoke({\n",
    "\t\"messages\": [\n",
    "\t\t(\"human\", \"What is the capital of France?\")\n",
    "\t],\n",
    "\t\"responses\": []\n",
    "})\n",
    "\n",
    "pprint(result)\n"
   ]
  },
  {
   "cell_type": "code",
   "execution_count": 3,
   "metadata": {},
   "outputs": [
    {
     "name": "stdout",
     "output_type": "stream",
     "text": [
      "httpx                  INFO:    HTTP Request: POST https://api.openai.com/v1/chat/completions \"HTTP/1.1 200 OK\"\n",
      "httpx                  INFO:    HTTP Request: POST https://api.openai.com/v1/chat/completions \"HTTP/1.1 200 OK\"\n",
      "httpx                  INFO:    HTTP Request: POST https://api.openai.com/v1/chat/completions \"HTTP/1.1 200 OK\"\n",
      "httpx                  INFO:    HTTP Request: POST https://api.openai.com/v1/chat/completions \"HTTP/1.1 200 OK\"\n",
      "httpx                  INFO:    HTTP Request: POST https://api.openai.com/v1/chat/completions \"HTTP/1.1 200 OK\"\n",
      "{'confidence_score': 0.5833333333333334,\n",
      " 'contrast_score': 0.2,\n",
      " 'messages': [HumanMessage(content=\"where is the location of 2025 **AI Engineer World's Fair Agents Hackathon** in SF?\", additional_kwargs={}, response_metadata={}, id='7824839d-fec2-43ac-bcce-efcee016139d'),\n",
      "              AIMessage(content=\"As of now, there is **no publicly available official information** regarding the specific location or venue for the **2025 AI Engineer World's Fair Agents Hackathon** in San Francisco. The event has been announced, but details such as the exact address or venue have not yet been released by the organizers.\\n\\nFor the most accurate and up-to-date information, please refer to the official event website or the organizers' announcements (such as [ai.engineer](https://ai.engineer) or their social media channels). If you need updates, you can also sign up for their newsletter or follow their official accounts for notifications as soon as the location is announced.\", additional_kwargs={'refusal': None}, response_metadata={'token_usage': {'completion_tokens': 130, 'prompt_tokens': 27, 'total_tokens': 157, 'completion_tokens_details': {'accepted_prediction_tokens': 0, 'audio_tokens': 0, 'reasoning_tokens': 0, 'rejected_prediction_tokens': 0}, 'prompt_tokens_details': {'audio_tokens': 0, 'cached_tokens': 0}}, 'model_name': 'gpt-4.1-2025-04-14', 'system_fingerprint': 'fp_51e1070cf2', 'id': 'chatcmpl-BdUv5PXzYm3oRG8l5d0Tu4bXD7JKD', 'service_tier': 'default', 'finish_reason': 'stop', 'logprobs': None}, id='run--c50ad18a-766d-4578-84fd-b704f4e96a2c-0', usage_metadata={'input_tokens': 27, 'output_tokens': 130, 'total_tokens': 157, 'input_token_details': {'audio': 0, 'cache_read': 0}, 'output_token_details': {'audio': 0, 'reasoning': 0}})],\n",
      " 'relevance_scores': [1.0, 0.9, 1.0],\n",
      " 'responses': ['As of now, there is **no publicly available official '\n",
      "               'information** regarding the specific location or venue for the '\n",
      "               \"**2025 AI Engineer World's Fair Agents Hackathon** in San \"\n",
      "               'Francisco. The event has been announced, but details such as '\n",
      "               'the exact address or venue have not yet been released by the '\n",
      "               'organizers.\\n'\n",
      "               '\\n'\n",
      "               'For the most accurate and up-to-date information, please refer '\n",
      "               \"to the official event website or the organizers' announcements \"\n",
      "               '(such as [ai.engineer](https://ai.engineer) or their social '\n",
      "               'media channels). If you need updates, you can also sign up for '\n",
      "               'their newsletter or follow their official accounts for '\n",
      "               'notifications as soon as the location is announced.',\n",
      "               \"The 2025 **AI Engineer World's Fair Agents Hackathon** in San \"\n",
      "               'Francisco is scheduled to take place at the **Moscone '\n",
      "               'Center**. If you need more specific details like the exact '\n",
      "               'room or floor, I recommend checking the official event website '\n",
      "               'or contacting the event organizers closer to the date.',\n",
      "               \"I'm sorry, but I couldn't find specific information about the \"\n",
      "               \"location of the 2025 **AI Engineer World's Fair Agents \"\n",
      "               'Hackathon** in San Francisco. I recommend checking the '\n",
      "               'official event website or contacting the event organizers for '\n",
      "               'the most accurate and up-to-date details.'],\n",
      " 'user_input': \"where is the location of 2025 **AI Engineer World's Fair \"\n",
      "               'Agents Hackathon** in SF?'}\n"
     ]
    }
   ],
   "source": [
    "result = await graph.ainvoke({\n",
    "\t\"messages\": [\n",
    "\t\t(\"human\", \"where is the location of 2025 **AI Engineer World's Fair Agents Hackathon** in SF?\")\n",
    "\t],\n",
    "\t\"responses\": []\n",
    "})\n",
    "\n",
    "\n",
    "pprint(result)\n"
   ]
  },
  {
   "cell_type": "code",
   "execution_count": 7,
   "metadata": {},
   "outputs": [
    {
     "data": {
      "text/plain": [
       "[1.0, 0.0, 0.6]"
      ]
     },
     "execution_count": 7,
     "metadata": {},
     "output_type": "execute_result"
    }
   ],
   "source": [
    "result[\"relevance_scores\"]"
   ]
  },
  {
   "cell_type": "code",
   "execution_count": null,
   "metadata": {},
   "outputs": [],
   "source": []
  }
 ],
 "metadata": {
  "kernelspec": {
   "display_name": ".venv",
   "language": "python",
   "name": "python3"
  },
  "language_info": {
   "codemirror_mode": {
    "name": "ipython",
    "version": 3
   },
   "file_extension": ".py",
   "mimetype": "text/x-python",
   "name": "python",
   "nbconvert_exporter": "python",
   "pygments_lexer": "ipython3",
   "version": "3.12.10"
  }
 },
 "nbformat": 4,
 "nbformat_minor": 2
}
