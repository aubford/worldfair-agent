{
 "cells": [
  {
   "cell_type": "code",
   "execution_count": 1,
   "metadata": {},
   "outputs": [
    {
     "name": "stderr",
     "output_type": "stream",
     "text": [
      "/Users/amir/dev/worldfair-agent/agent/.venv/lib/python3.12/site-packages/tqdm/auto.py:21: TqdmWarning: IProgress not found. Please update jupyter and ipywidgets. See https://ipywidgets.readthedocs.io/en/stable/user_install.html\n",
      "  from .autonotebook import tqdm as notebook_tqdm\n"
     ]
    },
    {
     "name": "stdout",
     "output_type": "stream",
     "text": [
      "httpx                  INFO:    HTTP Request: POST https://api.openai.com/v1/chat/completions \"HTTP/1.1 200 OK\"\n",
      "httpx                  INFO:    HTTP Request: POST https://api.openai.com/v1/chat/completions \"HTTP/1.1 200 OK\"\n",
      "httpx                  INFO:    HTTP Request: POST https://api.openai.com/v1/chat/completions \"HTTP/1.1 200 OK\"\n",
      "httpx                  INFO:    HTTP Request: POST https://api.openai.com/v1/chat/completions \"HTTP/1.1 200 OK\"\n",
      "httpx                  INFO:    HTTP Request: POST https://api.openai.com/v1/chat/completions \"HTTP/1.1 200 OK\"\n"
     ]
    }
   ],
   "source": [
    "from agent import create_response_graph\n",
    "\n",
    "graph = create_response_graph()\n",
    "result = await graph.ainvoke({\n",
    "\"user_input\": \"What is the capital of France?\",\n",
    "\"responses\": []\n",
    "})"
   ]
  },
  {
   "cell_type": "code",
   "execution_count": 2,
   "metadata": {},
   "outputs": [
    {
     "data": {
      "text/plain": [
       "{'user_input': 'What is the capital of France?',\n",
       " 'responses': [\"The capital of France is **Paris**. Paris is the largest city in France and serves as the country's political, economic, cultural, and administrative center. It is located in the north-central part of France, along the River Seine. Paris is renowned worldwide for its historical landmarks, such as the Eiffel Tower, the Louvre Museum, and Notre-Dame Cathedral, as well as its influence in art, fashion, gastronomy, and intellectual life. As the seat of the French government, Paris is home to the official residences of the President of France and the French Parliament.\",\n",
       "  'The capital of France is Paris.',\n",
       "  'Traditionally, the capital of France is Paris—a city renowned for its history, culture, and influence. But if we take an innovative perspective, we might ask: what if \"capital\" reflects where the heart, energy, or future of France lies?\\n\\nIn the digital age, one could argue that France\\'s \"capital\" is wherever its creative and technological hubs thrive, such as in the vibrant startup scene of Station F or the scientific community around Saclay. Alternatively, considering sustainability and the green transition, cities like Nantes or Lyon, known for their environmental initiatives, could symbolize the \"future capital\" of France.\\n\\nSo, while Paris remains the official and historical capital, the true \"capital\" might be found wherever France reinvents itself for tomorrow.'],\n",
       " 'confidence_score': 0.6333333333333333,\n",
       " 'relevance_scores': [1.0, 1.0, 0.6],\n",
       " 'contrast_score': 0.4}"
      ]
     },
     "execution_count": 2,
     "metadata": {},
     "output_type": "execute_result"
    }
   ],
   "source": [
    "result\n"
   ]
  },
  {
   "cell_type": "code",
   "execution_count": null,
   "metadata": {},
   "outputs": [],
   "source": []
  }
 ],
 "metadata": {
  "kernelspec": {
   "display_name": ".venv",
   "language": "python",
   "name": "python3"
  },
  "language_info": {
   "codemirror_mode": {
    "name": "ipython",
    "version": 3
   },
   "file_extension": ".py",
   "mimetype": "text/x-python",
   "name": "python",
   "nbconvert_exporter": "python",
   "pygments_lexer": "ipython3",
   "version": "3.12.10"
  }
 },
 "nbformat": 4,
 "nbformat_minor": 2
}
